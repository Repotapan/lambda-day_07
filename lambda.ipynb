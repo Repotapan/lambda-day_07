{
 "cells": [
  {
   "cell_type": "markdown",
   "id": "5af11799-6d4b-45a2-ba58-6dfaba60a28c",
   "metadata": {},
   "source": [
    "#lambda function"
   ]
  },
  {
   "cell_type": "code",
   "execution_count": 1,
   "id": "d18875e6-9595-49dc-a747-80938944ed79",
   "metadata": {},
   "outputs": [],
   "source": [
    "n= 3\n",
    "p= 2"
   ]
  },
  {
   "cell_type": "code",
   "execution_count": 2,
   "id": "18046ec3-cfa2-4f43-bf8c-7fa603db61b2",
   "metadata": {},
   "outputs": [],
   "source": [
    "def test(n,p):\n",
    "    return n**p\n",
    "    "
   ]
  },
  {
   "cell_type": "code",
   "execution_count": 3,
   "id": "9b952650-bf6e-4beb-b37a-08535a2a102d",
   "metadata": {},
   "outputs": [
    {
     "data": {
      "text/plain": [
       "9"
      ]
     },
     "execution_count": 3,
     "metadata": {},
     "output_type": "execute_result"
    }
   ],
   "source": [
    "test(3,2)"
   ]
  },
  {
   "cell_type": "code",
   "execution_count": 4,
   "id": "afe0e073-acd9-4bbd-ab32-c03d3e514fc6",
   "metadata": {},
   "outputs": [
    {
     "data": {
      "text/plain": [
       "<function __main__.<lambda>(n, p)>"
      ]
     },
     "execution_count": 4,
     "metadata": {},
     "output_type": "execute_result"
    }
   ],
   "source": [
    "lambda n,p : n**p"
   ]
  },
  {
   "cell_type": "code",
   "execution_count": 5,
   "id": "acda991d-ec19-4c14-a2a6-58e800dfa899",
   "metadata": {},
   "outputs": [],
   "source": [
    "a= lambda n,p :n**p"
   ]
  },
  {
   "cell_type": "code",
   "execution_count": 6,
   "id": "fa6c370b-20f4-4721-9d45-4f03d8cdaa2b",
   "metadata": {},
   "outputs": [
    {
     "data": {
      "text/plain": [
       "9"
      ]
     },
     "execution_count": 6,
     "metadata": {},
     "output_type": "execute_result"
    }
   ],
   "source": [
    "a(3,2)"
   ]
  },
  {
   "cell_type": "code",
   "execution_count": 7,
   "id": "f37a2754-a034-4838-9c18-0d321a18c2de",
   "metadata": {},
   "outputs": [],
   "source": [
    "# lambda function is known as one_liner function,anonymous function."
   ]
  },
  {
   "cell_type": "code",
   "execution_count": 8,
   "id": "2696ae26-7b94-4fff-a10c-adf5570a53d0",
   "metadata": {},
   "outputs": [],
   "source": [
    "add =lambda x,y:x+y"
   ]
  },
  {
   "cell_type": "code",
   "execution_count": 9,
   "id": "6bceed2d-da6f-4a2c-b5bd-cd1e4f003241",
   "metadata": {},
   "outputs": [
    {
     "data": {
      "text/plain": [
       "9"
      ]
     },
     "execution_count": 9,
     "metadata": {},
     "output_type": "execute_result"
    }
   ],
   "source": [
    "add(4,5)"
   ]
  },
  {
   "cell_type": "code",
   "execution_count": 10,
   "id": "0b81f26e-c21c-48cb-9343-ac67dd0c2aaf",
   "metadata": {},
   "outputs": [],
   "source": [
    "c_to_f=lambda c: (9/5)*c+32"
   ]
  },
  {
   "cell_type": "code",
   "execution_count": 11,
   "id": "26f4db17-cc12-4a3b-a6be-b7a3feeb2f99",
   "metadata": {},
   "outputs": [
    {
     "data": {
      "text/plain": [
       "113.0"
      ]
     },
     "execution_count": 11,
     "metadata": {},
     "output_type": "execute_result"
    }
   ],
   "source": [
    "c_to_f(45)"
   ]
  },
  {
   "cell_type": "code",
   "execution_count": 12,
   "id": "ef72056a-a705-4154-b32c-f9c2f5be623f",
   "metadata": {},
   "outputs": [],
   "source": [
    "find_max= lambda a,b:a if a>b else b"
   ]
  },
  {
   "cell_type": "code",
   "execution_count": 13,
   "id": "008c5f40-4368-4cb9-8b61-03ad012f4275",
   "metadata": {},
   "outputs": [
    {
     "data": {
      "text/plain": [
       "97"
      ]
     },
     "execution_count": 13,
     "metadata": {},
     "output_type": "execute_result"
    }
   ],
   "source": [
    "find_max(7,97)"
   ]
  },
  {
   "cell_type": "code",
   "execution_count": 14,
   "id": "e5f3ff3b-5982-41e0-ad02-9646d66e4da5",
   "metadata": {},
   "outputs": [],
   "source": [
    "s =\"pwskills\""
   ]
  },
  {
   "cell_type": "code",
   "execution_count": 15,
   "id": "5070f0d8-437a-4d47-9044-635c6e1f25e5",
   "metadata": {},
   "outputs": [],
   "source": [
    "sl=lambda s: len(s)"
   ]
  },
  {
   "cell_type": "code",
   "execution_count": 16,
   "id": "c4f306b3-e71c-402c-9543-1aff8da9eaaa",
   "metadata": {},
   "outputs": [
    {
     "data": {
      "text/plain": [
       "8"
      ]
     },
     "execution_count": 16,
     "metadata": {},
     "output_type": "execute_result"
    }
   ],
   "source": [
    "sl(s)"
   ]
  },
  {
   "cell_type": "code",
   "execution_count": null,
   "id": "2a1296f7-f75c-42ab-9edc-2e0451fa4cec",
   "metadata": {},
   "outputs": [],
   "source": []
  }
 ],
 "metadata": {
  "kernelspec": {
   "display_name": "Python 3 (ipykernel)",
   "language": "python",
   "name": "python3"
  },
  "language_info": {
   "codemirror_mode": {
    "name": "ipython",
    "version": 3
   },
   "file_extension": ".py",
   "mimetype": "text/x-python",
   "name": "python",
   "nbconvert_exporter": "python",
   "pygments_lexer": "ipython3",
   "version": "3.10.8"
  }
 },
 "nbformat": 4,
 "nbformat_minor": 5
}
